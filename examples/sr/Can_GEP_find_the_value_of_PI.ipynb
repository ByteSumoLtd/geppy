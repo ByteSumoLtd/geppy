{
 "cells": [
  {
   "cell_type": "markdown",
   "metadata": {},
   "source": [
    "# Test Linear Scaling & GENE EXPRESSION PROGRAMMING "
   ]
  },
  {
   "cell_type": "markdown",
   "metadata": {},
   "source": [
    "# Can we Evolve Pi using Linear Scaling ??"
   ]
  },
  {
   "cell_type": "markdown",
   "metadata": {},
   "source": [
    "# Improving symbolic regression with linear scaling\n",
    "Generally, if the constants in a mathematical model are continuous real numbers, then it is difficult for both GP/GEP to find the true value of such constants. In many cases, GEP can obtain the true *structure* of the model very quickly, after which it will spend much more time in optimizing the constants. However, even with the [GEP-RNC](numerical_expression_inference-RNC.ipynb) algorithm proposed by Cândida Ferreira, it is still quite difficult for GEP to locate a good value for the constants, even after a lot of efforts have been spent by GEP.\n",
    "\n",
    "In the paper *Improving Symbolic Regression with Interval Arithmetic and Linear Scaling* and [*Scaled Symbolic Regression*](https://www.researchgate.net/publication/220286036_Scaled_Symbolic_Regression), a simple yet effective method is developed to improve symbolic regression of arbitrary mathematical expressions. The intuition of this method is that **by rescaling the expression found by GEP/GP to the optimal slope and intercept, it will focus its search on expressions that are close in shape with the target, instead of demanding that first the scale is correct. Thus, GEP/GP will focus on the construction of the model structure, which it is extremely good at, and the linear scaling technique can help find the constant coefficients.**\n",
    "\n",
    "We only need to change the evaluation routine when implementing the linear scaling technique. Instead of the original mean squared error (MSE) objective, first rescale the model by determining a pair of weights $(a, b)$ to \n",
    "\\begin{equation}\n",
    "min_{a,b} \\quad \\frac{1}{N} \\sum_{i=1}^N (y_i - (ay_{pi}+b))^2\n",
    "\\end{equation}\n",
    "where $y_i$ and $y_{pi}$ are the true value and predicted value for the $i^{th}$ example's target variable.\n",
    "\n",
    "Thus, if the best model found by GEP finally is $g(x)$, then the scaled model is $ag(x)+b$."
   ]
  },
  {
   "cell_type": "code",
   "execution_count": 1,
   "metadata": {
    "collapsed": true
   },
   "outputs": [],
   "source": [
    "import geppy as gep\n",
    "from deap import creator, base, tools\n",
    "import numpy as np\n",
    "import random\n",
    "\n",
    "# for reproduction\n",
    "s = 10\n",
    "random.seed(s)\n",
    "np.random.seed(s)\n",
    "\n",
    "# https://stackoverflow.com/questions/20314324/precision-in-python-upto-50-decimal-places\n",
    "from decimal import *   # I am increasing precision using decimal to 50 places\n",
    "import math\n",
    "context = Context(prec=50)\n",
    "setcontext(context)"
   ]
  },
  {
   "cell_type": "markdown",
   "metadata": {},
   "source": [
    "# Synthetic dataset\n",
    "\n",
    "For this simple task, we first choose a ground truth function $f$ to generate a dataset $D$. Then, 50 input-output exampels are generated randomly."
   ]
  },
  {
   "cell_type": "code",
   "execution_count": 2,
   "metadata": {
    "collapsed": true
   },
   "outputs": [],
   "source": [
    "def f(x):\n",
    "    \"\"\"Ground truth function\"\"\"\n",
    "    return math.pi*(x**2)                  ## area of a circle\n",
    "\n",
    "    #return (4/3)*(math.pi)*(x**3)         ## volume of a sphere"
   ]
  },
  {
   "cell_type": "code",
   "execution_count": 3,
   "metadata": {
    "collapsed": true
   },
   "outputs": [],
   "source": [
    "n_cases = 1000\n",
    "X = np.random.uniform(-10, 10, size=n_cases)   # random numbers in range [-10, 10)\n",
    "Y = f(X) + np.random.normal(size=n_cases)   # Gaussian noise\n",
    "Y = f(X)"
   ]
  },
  {
   "cell_type": "code",
   "execution_count": 6,
   "metadata": {
    "collapsed": false
   },
   "outputs": [
    {
     "name": "stdout",
     "output_type": "stream",
     "text": [
      "[9.25072009e+01 2.88622759e+02 2.24458636e+01 7.77900714e+01\n",
      " 2.80105942e-03 9.51737783e+01 1.14562617e+02 8.52958139e+01\n",
      " 1.37586224e+02 2.12954879e+02 4.31758657e+01 2.58321259e+02\n",
      " 3.09217317e+02 1.86800716e-01 1.22813484e+02 1.59116839e+01\n",
      " 6.17956563e+01 5.44319519e+01 2.19327423e+02 5.78590472e+01\n",
      " 2.27454230e+00 1.60902668e+02 2.01596793e+01 3.81043973e+01\n",
      " 4.25168020e+00 5.47159013e+00 1.74283763e+01 2.16912418e-01\n",
      " 2.84242662e+01 1.28288445e+01 1.17069816e+02 5.88859130e-01\n",
      " 2.09850734e+02 4.10613593e+01 2.10767622e+02 4.99142115e+01\n",
      " 1.87249067e+02 1.35756279e+02 2.57991290e+02 2.00414056e+01\n",
      " 2.84558204e+00 1.28106842e+02 1.13892264e+02 1.60022851e+02\n",
      " 2.76547356e+01 8.14871917e+01 5.23158430e+01 1.85237376e+02\n",
      " 3.82598089e+01 1.41012710e+02 1.45141121e+01 2.07690021e+02\n",
      " 1.29570394e+02 1.52926338e+02 1.68759584e+01 2.48019416e+02\n",
      " 2.98801406e+02 2.39928785e+00 1.33651029e+02 7.76787952e+01\n",
      " 1.19144749e+01 2.03918803e+02 1.50074110e+00 1.02243584e+01\n",
      " 2.66735404e+02 2.56316891e+01 2.22079378e+02 4.75584894e+01\n",
      " 3.60101305e+01 9.42264559e+01 2.65951563e+02 6.24718630e+00\n",
      " 4.30424115e+01 2.34109375e+01 2.96681936e+01 2.62335586e+02\n",
      " 1.81377389e+02 8.70794276e+01 1.79645154e+02 8.55109017e+00\n",
      " 1.40072584e+01 2.27891199e-01 1.20285421e+01 7.10520085e+01\n",
      " 4.98284688e+01 2.83051676e+02 4.87378579e+01 8.35975971e+01\n",
      " 4.16606327e+00 5.39244282e+00 7.77110791e-01 5.39507951e+01\n",
      " 2.38606649e+02 2.88106382e+02 3.22874991e+01 3.08077847e-02\n",
      " 2.86018159e+02 4.40795586e+00 4.15001540e+01 4.92502014e-01\n",
      " 7.67214836e+00 1.57417793e+02 2.34413034e+02 1.58092934e+00\n",
      " 9.98967471e+01 6.00511524e+01 9.29883912e+00 2.69274178e+02\n",
      " 2.80274216e+01 5.01783046e+00 5.04013551e+01 1.91173876e-01\n",
      " 3.78131820e+01 1.45957027e+02 2.53929059e+02 3.30541873e+01\n",
      " 1.93037053e+02 1.29563562e+02 1.87066195e+02 2.27785460e+01\n",
      " 9.93882784e+01 8.01160363e+01 1.94205292e+02 7.51855321e+01\n",
      " 1.14721978e+00 1.21317965e+01 1.56038545e+02 1.25455096e+02\n",
      " 2.64470854e+01 2.56023059e+02 7.94140226e+01 2.26003945e+00\n",
      " 9.38114827e+01 1.76723685e+01 2.24033917e+02 2.27361420e+02\n",
      " 5.59901231e+00 1.40781068e+00 2.95763099e+02 2.87000456e+02\n",
      " 6.70192294e+00 1.06967642e+02 4.76178563e+00 1.78922353e+02\n",
      " 8.90822164e+00 5.48123095e+01 1.55230786e+02 6.43309803e+00\n",
      " 4.72412067e+01 1.96444475e+02 4.58361799e+00 1.40015766e+02\n",
      " 6.11998163e-02 1.27905399e+02 2.11130720e+02 1.13149178e+02\n",
      " 5.32995319e+00 1.00317507e+01 1.14533940e+02 5.12818166e+00\n",
      " 5.23455615e+01 2.68735484e+02 2.76782756e+02 2.76352209e+00\n",
      " 7.53459679e+01 4.12524237e+00 1.65862081e+01 1.38450827e+02\n",
      " 1.43785319e+02 1.23291912e+01 1.00440070e+02 1.52629441e+02\n",
      " 1.33738851e+01 9.92681334e+01 1.68326842e+01 2.88125232e+02\n",
      " 7.88320110e+01 1.31882425e+02 2.16276171e+00 2.16399761e-01\n",
      " 3.20859588e-01 1.49039135e+02 1.32884346e+02 2.96037685e+02\n",
      " 1.52852780e+02 7.40045509e+01 2.35632449e+00 8.67817815e+00\n",
      " 1.84595294e+02 3.27032534e+01 2.06467094e+02 5.85378810e+01\n",
      " 2.24758027e+02 1.08655438e+02 6.83979049e+00 5.34138957e+01\n",
      " 3.04744772e+01 1.15803807e+02 2.78187045e+01 2.07710454e+02\n",
      " 1.23360251e+02 1.01974900e+02 1.42747506e+01 1.66938054e+02\n",
      " 1.69003394e+01 7.40182962e+01 1.36352189e+02 7.02168360e+01\n",
      " 7.26007024e-02 2.61759659e+01 1.03373410e+02 1.96771233e+02\n",
      " 2.72823332e+02 4.20828000e+01 1.67922798e+02 4.52292227e+01\n",
      " 2.83213725e+02 2.55380074e+02 1.24985413e+02 2.33398042e+02\n",
      " 7.39130926e+01 2.14947579e+02 2.23262138e+00 1.71836725e+02\n",
      " 1.20678431e+02 1.17094342e+01 2.84206453e+02 1.60005578e+02\n",
      " 6.40166466e+01 5.49468378e+01 2.61400830e+01 1.08847168e+02\n",
      " 1.49240931e+02 1.82869980e+00 4.38719194e+00 1.79069165e+02\n",
      " 1.88137419e+01 6.37987487e+00 1.57876028e-01 1.92866031e+02\n",
      " 5.01596733e+01 1.34765333e+01 1.08082335e+02 9.67043367e+00\n",
      " 1.24794693e+02 1.45478656e+02 6.03000664e+00 2.43229419e+02\n",
      " 3.00386281e+02 9.24369942e+01 1.65329241e+01 2.18867936e+01\n",
      " 1.15200026e+02 2.04480313e+01 1.29659843e+02 5.63435007e+01\n",
      " 6.37331543e+01 1.28321301e+01 2.41644648e+02 5.39999060e+01\n",
      " 7.03441078e+01 1.79234341e+02 2.14091906e+00 2.83304942e+02\n",
      " 4.09752962e+01 1.18241094e+02 2.58170214e+02 2.57468011e+02\n",
      " 1.61640115e+02 1.35114236e+02 2.70432939e+02 1.23004925e+01\n",
      " 2.33342998e+02 1.56793459e+02 1.87272403e+02 2.05794449e+01\n",
      " 8.92894681e+01 4.02000369e+01 2.39435651e+01 3.02678537e+02\n",
      " 2.37405076e+00 3.30791543e+01 1.99080654e+02 2.44067435e+02\n",
      " 1.68738031e+01 1.35610153e+01 1.98336730e+02 2.44588951e+02\n",
      " 1.12507710e+01 1.71870415e+02 2.14375081e+02 1.01329830e+02\n",
      " 4.79929466e+01 8.87863056e+00 1.79996481e+02 1.82215633e+02\n",
      " 1.28073332e+01 2.65038556e+01 2.47027892e+02 5.15380675e+01\n",
      " 4.62159697e+01 1.21520173e+02 1.15376331e+02 2.73907056e-01\n",
      " 8.31844808e+01 1.30464173e+02 2.18913491e+02 4.03901083e-01\n",
      " 1.04620860e+00 4.84269440e+01 1.09535655e+02 3.69055147e+01\n",
      " 1.08079455e+02 2.63899102e+02 2.69800201e+02 2.83997759e+02\n",
      " 3.22517794e+00 2.37888853e+02 3.00985326e+01 2.89010709e+02\n",
      " 1.13740497e+02 1.07199410e+02 1.59930654e+02 5.02122074e+01\n",
      " 2.45557405e+02 7.44430243e+01 1.34140693e-01 3.08229527e+02\n",
      " 1.57018265e+02 3.20286336e+00 1.29309838e+01 2.03813266e+02\n",
      " 5.60874200e+01 6.12643198e+01 3.24370213e+00 1.44053829e+02\n",
      " 8.10923733e+00 1.25029091e+02 1.67644671e+01 1.88161596e+02\n",
      " 3.54220666e-01 1.99958920e+01 3.21632115e-02 2.10893138e+02\n",
      " 9.44498814e+00 1.58088692e+00 3.11158239e+01 1.72427399e+02\n",
      " 3.33146080e+01 2.38520208e+02 1.59691785e+01 1.47616752e+02\n",
      " 9.99977114e+01 2.04263152e+02 3.02001899e+02 9.44722915e+01\n",
      " 1.70127835e+02 2.08716424e+02 2.11478415e+02 8.25658843e+00\n",
      " 2.13831853e+02 1.84450902e+02 9.23372206e+01 6.81017330e+01\n",
      " 2.14210115e+02 2.55307683e+01 9.38011586e+01 1.70667876e+02\n",
      " 1.79861589e+00 8.15357587e+01 6.50238561e+01 5.56000418e+00\n",
      " 6.83096082e-01 4.02865630e+00 4.41343045e+00 4.71668245e+01\n",
      " 5.98504400e+01 8.26011585e+01 2.69009456e+02 4.01898911e+01\n",
      " 6.52058807e-01 2.00889669e+02 1.63875272e+01 1.43490630e+02\n",
      " 6.87461159e+01 4.00098679e+01 2.34675755e+02 2.68999888e+02\n",
      " 4.39295381e+00 1.44539515e+02 6.77024455e+01 8.77737991e+01\n",
      " 2.90316918e+02 1.52458158e+02 2.73000465e+02 2.91746930e+02\n",
      " 2.44596219e+01 1.33111994e+02 9.67896104e+00 7.65550006e+01\n",
      " 8.71115420e+01 9.37352358e+01 3.68558173e+01 5.34980986e+01\n",
      " 1.56726198e+02 6.10956076e-01 4.11587918e+00 3.63029244e+00\n",
      " 2.90313747e+01 1.04631797e+02 1.93365433e+02 4.57929107e+01\n",
      " 1.66856568e+02 7.91231279e+01 9.04806051e-01 1.01883181e+02\n",
      " 6.17052913e+00 1.44283310e+02 1.75341487e+00 7.82736771e+01\n",
      " 2.44509519e+02 2.09236839e+02 1.33386592e+02 4.63703338e+00\n",
      " 1.21491787e+02 2.11655258e+02 7.27567280e+00 5.48100755e+01\n",
      " 2.89517903e+01 2.39039006e+01 1.60582685e-02 2.72362676e+02\n",
      " 1.18198605e+02 2.30754804e+02 1.63126735e+01 2.91951693e+02\n",
      " 5.80815402e+01 3.03371930e+02 5.64007551e+01 1.46464874e+02\n",
      " 4.05748433e+00 1.34330083e+02 1.86722881e+02 1.11504987e+02\n",
      " 2.78630920e+01 3.83087006e-03 5.77426242e+01 2.34812054e+01\n",
      " 2.17823632e+01 1.96449621e+00 8.63045877e+01 1.45171111e+02\n",
      " 1.96109079e+02 1.42031048e-01 2.65991751e+01 1.51252148e+02\n",
      " 3.11951916e+02 2.74112423e+02 1.19106326e+02 6.41456095e+01\n",
      " 6.13256500e+01 1.80809885e+02 4.68654133e-01 2.34846618e+02\n",
      " 2.16348629e+02 8.24353491e+01 1.38918435e+01 2.77874141e+02\n",
      " 6.32673392e+01 2.40912571e+02 9.09397336e+01 1.85992928e+02\n",
      " 1.72969421e+02 1.57057997e+02 1.05092752e+02 2.10440019e+02\n",
      " 1.43708160e+02 5.64949139e+01 4.66246133e+01 2.68655890e+01\n",
      " 8.73482543e+01 2.11434830e+02 1.17299010e+02 1.68533427e+01\n",
      " 2.34609493e+02 4.58836844e+01 4.96340384e+00 7.01345784e+01\n",
      " 9.26082631e-01 1.16426115e+02 5.27710776e+01 1.26008620e+02\n",
      " 2.89852022e+02 7.43994761e+01 2.67881068e+02 5.52717524e+00\n",
      " 1.38582298e+02 2.97474360e+02 1.09515335e-01 5.25595571e-01\n",
      " 2.77998874e+02 2.99961886e+02 3.55332228e+01 2.41704964e+02\n",
      " 1.21115154e+01 1.87156540e+02 9.70183305e+00 2.67905675e+02\n",
      " 2.20782449e+02 2.19654441e+02 1.20270405e+02 1.13621207e+02\n",
      " 2.93269095e+02 1.64033346e+02 2.12582621e+02 1.23470016e+01\n",
      " 5.70708940e+01 1.47880790e+02 1.72152082e+01 1.62318898e+02\n",
      " 9.24552083e+01 1.46550100e+02 1.49015489e+02 9.84176344e+01\n",
      " 1.21650800e+02 1.62440019e+00 1.53239882e+01 7.15995758e-01\n",
      " 2.44997720e+01 3.07713019e+02 2.83840664e+02 4.53771984e+01\n",
      " 1.35529746e+02 4.72609967e+01 5.79446063e+01 2.48727106e+02\n",
      " 8.49562769e+00 5.23891896e+01 3.94510170e+01 2.74046265e+02\n",
      " 1.16948751e+02 2.92643460e+01 1.97046799e+02 1.21225321e+01\n",
      " 2.08316546e+02 2.94837981e-02 7.39534273e+01 3.07546188e+02\n",
      " 2.11074647e+02 2.47523143e+02 1.85613105e+02 2.96307007e+02\n",
      " 5.11473828e-01 1.14293713e+02 2.35984833e+02 3.00343854e+01\n",
      " 1.06993125e+02 1.58074194e-01 1.04383933e+02 3.42962893e+01\n",
      " 1.87959149e+02 2.05930589e+02 3.08873759e+02 2.28580949e+02\n",
      " 1.69909446e+02 2.45668212e+02 4.88036473e+01 1.03282254e+02\n",
      " 7.50222231e+01 2.05184444e+02 1.21185753e+01 6.70714583e+01\n",
      " 2.76035220e+01 7.80094207e+01 9.33549963e+01 2.19968424e-02\n",
      " 1.67199935e+02 2.25856509e+01 8.13878834e+01 4.96810592e+00\n",
      " 1.25131230e+01 6.24444105e+01 2.04703407e+01 3.47655278e+00\n",
      " 2.21181665e+02 1.11688426e+01 6.03128030e+01 7.38661721e+01\n",
      " 5.08567262e+01 8.33466337e+01 9.40954426e+01 3.08644869e+02\n",
      " 1.63059021e+02 5.24174298e+01 1.16443917e+02 3.00267598e+00\n",
      " 1.05688884e+02 9.74621176e+01 2.94939467e-01 2.43985448e+01\n",
      " 1.38765083e+02 2.26641172e+02 5.93593307e+01 1.49732884e+02\n",
      " 6.28469197e+01 1.23576098e+02 1.36569714e+02 1.15643558e+02\n",
      " 2.67410240e+02 2.84694906e+00 9.65154872e+01 1.03705173e+02\n",
      " 2.05848693e+01 2.23210492e+01 4.86307700e+01 1.25774987e+02\n",
      " 8.23325363e+00 1.23787576e+02 6.92707560e+01 2.93676315e+02\n",
      " 1.74184038e+02 3.32973372e+00 3.40526773e+01 2.77938456e+02\n",
      " 3.02873271e+02 4.11457287e+01 1.21419582e+02 2.60103203e+02\n",
      " 2.97864581e+02 3.29021206e+01 1.93580616e+02 4.53848283e+01\n",
      " 4.63500309e+01 1.83880557e+02 2.51010356e+02 2.86389768e+02\n",
      " 2.05590180e+02 1.10235572e+02 2.37317903e+02 5.91948503e+01\n",
      " 2.44276397e+00 1.52635664e+02 2.70513944e+01 2.78496017e+02\n",
      " 8.07676237e+01 1.90872827e+02 3.01250720e+02 3.74240961e+01\n",
      " 1.35599178e+02 1.88596875e+02 2.83892083e+02 1.24178538e+02\n",
      " 7.92291602e+01 7.90454213e+01 1.46777829e+02 6.30215276e+01\n",
      " 6.38649951e+00 7.33373692e+01 2.22463585e+01 2.85405125e+01\n",
      " 3.50313350e+01 4.85871920e+01 4.29492414e+01 6.63459998e+01\n",
      " 2.01358222e+02 2.74028443e+02 1.97756644e+02 2.01804971e+01\n",
      " 2.76293347e+01 4.46787115e+01 1.20741087e+02 1.16724642e+02\n",
      " 1.08927532e+02 1.89730362e+02 1.22011169e+02 9.82055706e+01\n",
      " 1.86342595e+02 3.96271485e+01 1.93922972e+02 1.44201273e+02\n",
      " 3.75170587e+01 5.76295978e+01 8.67655917e+01 1.17449207e+02\n",
      " 2.19876039e+02 2.95131686e+02 3.10459555e+02 3.18648630e-01\n",
      " 5.03078695e+01 2.25318130e+02 2.02211125e+02 1.23570245e+02\n",
      " 2.49613368e+01 2.84369484e+02 1.63352389e+01 2.94120117e+02\n",
      " 2.91130486e+02 2.44830509e+00 4.06187980e+00 2.82693513e+02\n",
      " 2.17947373e+01 7.97816434e+00 1.12449043e+01 3.11748231e+02\n",
      " 1.48122070e+02 4.99410116e+00 6.63416820e+01 2.76368048e+02\n",
      " 1.01356122e+01 5.23918328e+01 2.82504649e+01 8.19739267e+01\n",
      " 1.86569245e+02 7.66334373e+01 9.29752703e+01 1.32390739e+01\n",
      " 8.74736893e+01 6.70474569e+01 3.37980643e+01 8.54231303e+01\n",
      " 1.23966690e+02 4.40488141e+01 2.24535222e+01 1.01576876e+01\n",
      " 8.44520775e+01 3.96585181e+01 5.13847795e-03 8.83120231e+00\n",
      " 6.84554899e+01 5.74664996e+01 2.29431554e+00 2.83616265e+01\n",
      " 8.95064759e-03 5.91479319e+00 5.95925337e+01 2.98818175e+02\n",
      " 2.21360152e+02 7.32974631e+00 1.23601038e+02 4.75851768e+00\n",
      " 1.34852733e+01 9.81120331e+01 2.21186578e+02 1.08987928e+02\n",
      " 4.45746946e+01 1.95690920e+01 1.04571684e+02 1.29478155e+02\n",
      " 1.86677034e+02 9.36906893e+01 3.60587039e-01 2.54140853e+02\n",
      " 3.10447086e+00 7.49759552e-01 1.75383319e+02 2.70534686e+01\n",
      " 3.66462134e+01 3.01165473e+02 1.65498778e+02 9.18246990e+01\n",
      " 1.39402986e+02 3.40792290e+01 7.17381429e+00 2.09644578e+02\n",
      " 5.77508995e+01 4.11686009e-01 5.40486718e+01 2.44099379e+01\n",
      " 2.83601032e+02 1.15427007e+02 7.62624011e+01 1.60263085e+01\n",
      " 9.36359474e+00 8.73459747e+01 3.00034016e+02 9.90519308e+00\n",
      " 1.13793663e+02 3.01925170e+02 1.56678256e+02 3.05340841e+01\n",
      " 3.09910421e+01 2.35671345e+02 4.38568241e+00 1.72330169e+01\n",
      " 1.20846944e+00 3.07695750e+02 2.36121421e+02 2.79655726e+02\n",
      " 3.34678723e+00 3.21795959e+01 1.48910943e+02 5.24785350e+01\n",
      " 5.93103122e+01 2.12060451e-01 4.61810356e+01 2.21616628e+02\n",
      " 4.81538659e+01 6.26486402e+01 1.07994391e+02 3.12451450e+02\n",
      " 5.24503543e+01 7.96171198e-01 1.09702645e+02 1.32782222e+00\n",
      " 6.99955829e+00 2.73155694e+02 2.46265936e+02 1.00132509e+01\n",
      " 9.19087334e+01 2.71147597e-02 5.20283084e+00 3.59033336e+01\n",
      " 1.35265373e+01 2.06439242e+02 1.85532710e+02 2.77223095e+02\n",
      " 2.57753395e+02 1.80951471e+01 2.98740720e+02 5.98468556e+01\n",
      " 2.26160167e+02 3.55499263e+01 1.47502234e+02 1.38339545e+01\n",
      " 1.46821451e+02 2.13475490e+02 2.80880832e+01 6.29978416e+00\n",
      " 1.15102908e+02 8.36015647e+01 3.09985756e+02 1.55790442e+01\n",
      " 2.23355638e+02 1.51638610e+02 7.85363353e+01 2.51631002e+02\n",
      " 7.80523618e+01 1.47463671e+02 3.09530162e+01 5.41997082e+01\n",
      " 6.62374770e+01 8.17921680e-01 4.31580055e+00 3.06233422e+02\n",
      " 1.48236916e+02 1.66468347e+02 8.65519119e+01 2.19105904e+02\n",
      " 8.74241725e+01 2.34506314e+01 8.38116598e+01 8.40528597e+01\n",
      " 2.47930255e+02 3.29759473e+00 2.01892809e+02 2.08452543e+02\n",
      " 1.21689455e+00 1.37715822e+02 3.54214985e+01 7.13520957e+01\n",
      " 2.54966731e+01 2.29786150e+02 1.83470715e+02 2.63169181e+02\n",
      " 9.76809979e+01 1.53184986e+02 1.78393166e+02 6.09985482e-01\n",
      " 7.39455360e+01 2.50460722e+02 1.03093239e-01 6.13150053e+01\n",
      " 3.09442430e+02 5.25425699e+00 2.87765349e+02 2.95468645e+02\n",
      " 1.00668540e+00 2.39451464e+01 1.95523604e+02 9.87614668e+01\n",
      " 6.93608561e+01 5.70808372e+01 2.66352514e+02 6.72482922e+01\n",
      " 1.45306914e+02 1.11643897e+01 4.16213535e+01 5.58487724e+01\n",
      " 1.32235575e+02 1.75302816e+01 1.28759091e+01 1.60056172e+01\n",
      " 1.22859822e+02 7.37634611e+00 7.11680314e+01 3.01866515e+02\n",
      " 2.33611503e+02 1.56097041e+02 1.01891043e+02 5.36560273e-01\n",
      " 5.15097071e+01 3.50735496e-01 1.44165501e+01 2.00754905e+02\n",
      " 6.08143116e+01 2.06510497e+02 2.55552064e-02 1.30481946e+02\n",
      " 9.06449722e+01 4.91411048e+01 1.86449680e+02 1.97476549e+02\n",
      " 1.18296832e+02 1.03534936e+02 1.21963406e+02 3.86773727e+01\n",
      " 1.83485710e+01 1.27403109e+02 1.56274433e+02 2.63409879e+02\n",
      " 7.69188184e+01 2.32964655e+02 6.61597371e+01 2.18573200e+02\n",
      " 1.48237406e+02 2.97951381e+02 6.00348573e+00 1.37481225e+01\n",
      " 7.76099926e+00 1.62647161e+02 8.57598877e+01 4.65460839e+01\n",
      " 1.57147336e+01 2.31175838e+02 5.83143428e+01 3.93365299e+01\n",
      " 1.25518269e+02 2.51121507e+02 1.44120489e+02 1.05526696e+00\n",
      " 9.80568393e+01 2.54008373e+01 2.16659603e+01 5.08567763e+01\n",
      " 3.54141396e+00 1.89330982e+01 1.09153755e+02 2.57640639e+01\n",
      " 1.89331194e-02 3.09503268e+01 5.38410628e+01 1.61719134e+02\n",
      " 1.42500116e+02 1.88041870e+02 1.89195391e+02 2.12142197e+00\n",
      " 9.08680954e+00 2.49322825e+02 9.70126929e+00 3.81293783e+01\n",
      " 4.00549401e+01 7.90334370e+01 7.17358498e+01 2.78720274e+02\n",
      " 2.76542635e+01 2.37755221e+02 8.48226451e+01 2.10780726e+02\n",
      " 8.55803362e+01 1.01836273e+02 4.09460497e+01 7.93749910e-01\n",
      " 2.33234803e+02 1.47007928e+02 4.42553896e-01 2.10115810e+02\n",
      " 1.31544300e+02 2.28447960e+02 3.05841488e+01 3.93659730e+01\n",
      " 6.21337244e+01 4.51417886e+01 2.49448740e+02 4.89757029e+01\n",
      " 1.58583272e+02 5.78447688e+00 2.77679872e+02 4.62911189e+01\n",
      " 1.69534131e+02 1.44953621e+02 1.49422809e+01 1.34499356e+02\n",
      " 2.81142491e+02 9.22264986e+01 1.20789370e+01 3.05373397e-01\n",
      " 1.05571509e+02 1.40931325e+02 4.53397631e+01 2.05927277e+02]\n"
     ]
    }
   ],
   "source": [
    "print(Y)"
   ]
  },
  {
   "cell_type": "markdown",
   "metadata": {},
   "source": [
    "# Creating the primitives set\n",
    "The first step in GEP (or GP as well) is to specify the primitive set, which contains the elementary building blocks to formulate the model. For this problem, we have:\n",
    "+ function set: the standard arithmetic operators addition (+), subtraction (-), multiplication (*), and division (/).\n",
    "+ terminal set: only the single input 'x' and random numerical constants (RNC).\n",
    "\n",
    "NOTE:\n",
    "\n",
    "- We define a *protected division* to avoid dividing by zero.\n",
    "- Even there may be multiple RNCs in the model, we only need to call `PrimitiveSet.add_rnc` once."
   ]
  },
  {
   "cell_type": "code",
   "execution_count": 7,
   "metadata": {
    "collapsed": true
   },
   "outputs": [],
   "source": [
    "def protected_div(a, b):\n",
    "    if np.isscalar(b):\n",
    "        if abs(b) < 1e-6:\n",
    "            b = 1\n",
    "    else:\n",
    "        b[abs(b) < 1e-6] = 1\n",
    "    return a / b"
   ]
  },
  {
   "cell_type": "code",
   "execution_count": 8,
   "metadata": {
    "collapsed": true
   },
   "outputs": [],
   "source": [
    "import operator \n",
    "\n",
    "pset = gep.PrimitiveSet('Main', input_names=['x'])\n",
    "pset.add_function(operator.add, 2)\n",
    "pset.add_function(operator.sub, 2)\n",
    "pset.add_function(operator.mul, 2)\n",
    "pset.add_function(protected_div, 2)\n",
    "pset.add_ephemeral_terminal(name='enc', gen=lambda: random.uniform(-5, 5)) # each ENC is a random integer within [-10, 10]"
   ]
  },
  {
   "cell_type": "markdown",
   "metadata": {},
   "source": [
    "# Create the individual and population\n",
    "Our objective is to **minimize** the MSE (mean squared error) for data fitting.\n",
    "## Define the indiviudal class, a subclass of *gep.Chromosome*"
   ]
  },
  {
   "cell_type": "code",
   "execution_count": 9,
   "metadata": {
    "collapsed": false
   },
   "outputs": [],
   "source": [
    "from deap import creator, base, tools\n",
    "\n",
    "creator.create(\"FitnessMin\", base.Fitness, weights=(-1,))  # to minimize the objective (fitness)\n",
    "creator.create(\"Individual\", gep.Chromosome, fitness=creator.FitnessMin, a=float, b=float)"
   ]
  },
  {
   "cell_type": "markdown",
   "metadata": {},
   "source": [
    "## Register the individual and population creation operations\n",
    "In DEAP, it is recommended to register the operations used in evolution into a *toolbox* to make full use of DEAP functionality. The configuration of individuals in this problem is:\n",
    "+ head length: 6\n",
    "+ number of genes in each chromosome: 2\n",
    "\n",
    "Generally, more complicated problems require a larger head length and longer chromosomes formed with more genes."
   ]
  },
  {
   "cell_type": "code",
   "execution_count": 10,
   "metadata": {
    "collapsed": false
   },
   "outputs": [],
   "source": [
    "h = 7 # head length\n",
    "n_genes = 2   # number of genes in a chromosome"
   ]
  },
  {
   "cell_type": "markdown",
   "metadata": {},
   "source": [
    "# TOGGLE Linear Scaling ON / OFF here:"
   ]
  },
  {
   "cell_type": "code",
   "execution_count": 11,
   "metadata": {
    "collapsed": true
   },
   "outputs": [],
   "source": [
    "# whether enable linear scaling\n",
    "LINEAR_SCALING = True"
   ]
  },
  {
   "cell_type": "markdown",
   "metadata": {},
   "source": [
    "### above, we can toggle the switch to use linear scaling or not - which should to improve final outputs discovered through evolution of the equations. This helps us compare how well LS works to improve GEP."
   ]
  },
  {
   "cell_type": "code",
   "execution_count": 12,
   "metadata": {
    "collapsed": true
   },
   "outputs": [],
   "source": [
    "toolbox = gep.Toolbox()\n",
    "toolbox.register('gene_gen', gep.Gene, pset=pset, head_length=h)\n",
    "toolbox.register('individual', creator.Individual, gene_gen=toolbox.gene_gen, n_genes=n_genes, linker=operator.add)\n",
    "toolbox.register(\"population\", tools.initRepeat, list, toolbox.individual)\n",
    "\n",
    "# compile utility: which translates an individual into an executable function (Lambda)\n",
    "toolbox.register('compile', gep.compile_, pset=pset)"
   ]
  },
  {
   "cell_type": "markdown",
   "metadata": {},
   "source": [
    "# Define the fitness evaluation function\n",
    "In DEAP, the single objective optimization problem is just a special case of more general multiobjective ones. Since *geppy* is built on top of DEAP, it conforms to this convention. **Even if the fitness only contains one measure, keep in mind that DEAP stores it as an iterable.** \n",
    "\n",
    "Knowing that, you can understand why the evaluation function must return a tuple value (even if it is a 1-tuple). That's also why we set ``weights=(-1,)`` when creating the ``FitnessMax`` class."
   ]
  },
  {
   "cell_type": "code",
   "execution_count": 13,
   "metadata": {
    "collapsed": true
   },
   "outputs": [],
   "source": [
    "def evaluate(individual):\n",
    "    \"\"\"Evalute the fitness of an individual: MSE (mean squared error)\"\"\"\n",
    "    func = toolbox.compile(individual)\n",
    "    Yp = func(X)   # predictions with the GEP model\n",
    "    return np.mean((Y - Yp) ** 2),"
   ]
  },
  {
   "cell_type": "code",
   "execution_count": 14,
   "metadata": {
    "collapsed": true
   },
   "outputs": [],
   "source": [
    "def evaluate_linear_scaling(individual):\n",
    "    \"\"\"Evaluate the fitness of an individual with linearly scaled MSE.\n",
    "    Get a and b by minimizing (a*Yp + b - Y)\"\"\"\n",
    "    func = toolbox.compile(individual)\n",
    "    Yp = func(X)\n",
    "    \n",
    "    # special cases: (1) individual has only a terminal \n",
    "    #  (2) individual returns the same value for all test cases, like 'x - x + 10'. np.linalg.lstsq will fail in such cases.\n",
    "    \n",
    "    if isinstance(Yp, np.ndarray):\n",
    "        Q = np.hstack((np.reshape(Yp, (-1, 1)), np.ones((len(Yp), 1))))\n",
    "        (individual.a, individual.b), residuals, _, _ = np.linalg.lstsq(Q, Y, rcond=None)   \n",
    "        # residuals is the sum of squared errors\n",
    "        if residuals.size > 0:\n",
    "            return residuals[0] / len(Y),   # MSE\n",
    "    \n",
    "    # for the above special cases, the optimal linear scaling is just the mean of true target values\n",
    "    individual.a = 0\n",
    "    individual.b = np.mean(Y)\n",
    "    return np.mean((Y - individual.b) ** 2),"
   ]
  },
  {
   "cell_type": "code",
   "execution_count": 15,
   "metadata": {
    "collapsed": true
   },
   "outputs": [],
   "source": [
    "if LINEAR_SCALING:\n",
    "    toolbox.register('evaluate', evaluate_linear_scaling)\n",
    "else:\n",
    "    toolbox.register('evaluate', evaluate)"
   ]
  },
  {
   "cell_type": "markdown",
   "metadata": {},
   "source": [
    "# Register genetic operators\n",
    "Compared with GP and other genetic algorithms, GEP has its own set of genetic operators aside from common mutation and crossover. For details, please check the tutorial [Introduction to gene expression programming](https://geppy.readthedocs.io/en/latest/intro_GEP.html).\n",
    "\n",
    "In the following code, the selection operator is ``tools.selTournament`` provided by DEAP, while all other operators are specially designed for GEP in *geppy*."
   ]
  },
  {
   "cell_type": "code",
   "execution_count": 16,
   "metadata": {
    "collapsed": true
   },
   "outputs": [],
   "source": [
    "toolbox.register('select', tools.selTournament, tournsize=3)\n",
    "# 1. general operators\n",
    "toolbox.register('mut_uniform', gep.mutate_uniform, pset=pset, ind_pb=0.05, pb=1)\n",
    "toolbox.register('mut_invert', gep.invert, pb=0.1)\n",
    "toolbox.register('mut_is_transpose', gep.is_transpose, pb=0.1)\n",
    "toolbox.register('mut_ris_transpose', gep.ris_transpose, pb=0.1)\n",
    "toolbox.register('mut_gene_transpose', gep.gene_transpose, pb=0.1)\n",
    "toolbox.register('cx_1p', gep.crossover_one_point, pb=0.4)\n",
    "toolbox.register('cx_2p', gep.crossover_two_point, pb=0.2)\n",
    "toolbox.register('cx_gene', gep.crossover_gene, pb=0.1)\n",
    "toolbox.register('mut_ephemeral', gep.mutate_uniform_ephemeral, ind_pb='1p')  # 1p: expected one point mutation in an individual\n",
    "toolbox.pbs['mut_ephemeral'] = 1  # we can also give the probability via the pbs property"
   ]
  },
  {
   "cell_type": "markdown",
   "metadata": {},
   "source": [
    "# Statistics to be inspected\n",
    "We often need to monitor of progress of an evolutionary program. DEAP offers two classes to handle the boring work of recording statistics. Details are presented in [Computing statistics](http://deap.readthedocs.io/en/master/tutorials/basic/part3.html). In the following, we are intereted in the average/standard deviation/min/max of all the individuals' fitness in each generation."
   ]
  },
  {
   "cell_type": "code",
   "execution_count": 17,
   "metadata": {
    "collapsed": true
   },
   "outputs": [],
   "source": [
    "stats = tools.Statistics(key=lambda ind: ind.fitness.values[0])\n",
    "stats.register(\"avg\", np.mean)\n",
    "stats.register(\"std\", np.std)\n",
    "stats.register(\"min\", np.min)\n",
    "stats.register(\"max\", np.max)"
   ]
  },
  {
   "cell_type": "markdown",
   "metadata": {},
   "source": [
    "# Launch evolution\n",
    "We make use of *geppy*'s builtin algorithm ``gep_rnc`` here to perform the GEP-RNC evolution. A special class from DEAP, `HallOfFame`, is adopted to store the best individuals ever found. Besides, it should be noted that in GEP [*elitism*](https://en.wikipedia.org/wiki/Genetic_algorithm#Elitism) is highly recommended because some genetic operators in GEP are destructive and may destroy the best individual we have evolved."
   ]
  },
  {
   "cell_type": "code",
   "execution_count": 18,
   "metadata": {
    "collapsed": false
   },
   "outputs": [
    {
     "name": "stdout",
     "output_type": "stream",
     "text": [
      "gen\tnevals\tavg    \tstd    \tmin        \tmax    \n",
      "0  \t1000  \t7701.89\t2606.81\t1.53985e-28\t8743.13\n",
      "1  \t999   \t6766.16\t3370.82\t1.53985e-28\t8743.13\n",
      "2  \t999   \t5355.94\t3879.88\t1.53985e-28\t8743.13\n",
      "3  \t999   \t3938.35\t3956.25\t1.53985e-28\t8743.13\n",
      "4  \t999   \t3218.47\t3867.38\t1.52188e-28\t8743.13\n",
      "5  \t999   \t2781.47\t3794.97\t1.52188e-28\t8743.13\n",
      "6  \t999   \t2820.93\t3842.63\t1.48596e-28\t8743.13\n",
      "7  \t999   \t2453.01\t3710.89\t1.48596e-28\t8743.13\n",
      "8  \t999   \t2249.12\t3608.4 \t1.48596e-28\t8743.13\n",
      "9  \t999   \t1800.13\t3355.13\t1.41302e-28\t8743.13\n",
      "10 \t999   \t1655.02\t3255.69\t1.41302e-28\t8743.13\n",
      "11 \t999   \t1728.44\t3359.13\t1.41302e-28\t8743.13\n",
      "12 \t999   \t1980.24\t3531.54\t1.41302e-28\t8743.13\n",
      "13 \t999   \t1967.09\t3538.46\t1.29475e-28\t8743.13\n",
      "14 \t999   \t1903.24\t3486.94\t1.29475e-28\t8743.13\n",
      "15 \t999   \t2098.62\t3613.13\t1.29475e-28\t8743.13\n",
      "16 \t999   \t2001.61\t3547.75\t1.29475e-28\t8743.13\n",
      "17 \t999   \t2251.25\t3704.12\t1.29475e-28\t8743.13\n",
      "18 \t999   \t1991.59\t3549.36\t1.29475e-28\t8743.13\n",
      "19 \t999   \t1925.46\t3505.29\t1.29475e-28\t8743.13\n",
      "20 \t999   \t2046.3 \t3568.98\t1.29475e-28\t8743.13\n",
      "21 \t999   \t1883.39\t3507.26\t1.29475e-28\t8743.13\n",
      "22 \t999   \t1960.28\t3550.66\t1.29475e-28\t8743.13\n",
      "23 \t999   \t2036.75\t3578.62\t1.29475e-28\t8743.13\n",
      "24 \t999   \t1932.83\t3490.91\t1.29475e-28\t8743.13\n",
      "25 \t999   \t2054.72\t3584.83\t1.29475e-28\t8743.13\n",
      "26 \t999   \t1860.88\t3463.04\t1.25681e-28\t8743.13\n",
      "27 \t999   \t2065.52\t3598.08\t1.25681e-28\t8743.13\n",
      "28 \t999   \t2110.18\t3633.65\t1.25681e-28\t8743.13\n",
      "29 \t999   \t2163.85\t3672.76\t1.25681e-28\t8743.13\n",
      "30 \t999   \t2180.97\t3681.46\t1.25681e-28\t8743.13\n",
      "31 \t999   \t2090.95\t3646.08\t1.25681e-28\t8743.13\n",
      "32 \t999   \t1783.87\t3415.86\t1.25681e-28\t8743.13\n",
      "33 \t999   \t2109.91\t3632.8 \t1.25681e-28\t8743.13\n",
      "34 \t999   \t2141.83\t3639.36\t1.25681e-28\t8743.13\n",
      "35 \t999   \t2020.35\t3584.48\t1.25681e-28\t8743.13\n",
      "36 \t999   \t2002.42\t3560.73\t1.25681e-28\t8743.13\n",
      "37 \t999   \t2116.74\t3616.58\t1.25681e-28\t8743.13\n",
      "38 \t999   \t2041.16\t3600.54\t1.25681e-28\t8743.13\n",
      "39 \t999   \t2094.65\t3609.97\t1.25681e-28\t8743.13\n",
      "40 \t999   \t1946.84\t3519.02\t1.25681e-28\t8743.13\n",
      "41 \t999   \t2077.83\t3620.4 \t1.25681e-28\t8743.13\n",
      "42 \t999   \t2200.05\t3679.41\t1.25681e-28\t8743.13\n",
      "43 \t999   \t1912.41\t3489.32\t1.25681e-28\t8743.13\n",
      "44 \t999   \t2213.51\t3676.8 \t1.25681e-28\t8743.13\n",
      "45 \t999   \t2269.13\t3697.82\t1.25681e-28\t8743.13\n",
      "46 \t999   \t2141.81\t3619.29\t1.25681e-28\t8743.13\n",
      "47 \t999   \t2037.12\t3567.25\t1.25681e-28\t8743.13\n",
      "48 \t999   \t1926.01\t3484.07\t1.25681e-28\t8743.13\n",
      "49 \t999   \t2139.1 \t3619.47\t1.25681e-28\t8743.13\n",
      "50 \t999   \t2231.49\t3649.72\t1.25681e-28\t8743.13\n"
     ]
    }
   ],
   "source": [
    "# size of population and number of generations\n",
    "n_pop = 1000\n",
    "n_gen = 50\n",
    "\n",
    "pop = toolbox.population(n=n_pop)\n",
    "hof = tools.HallOfFame(3)   # only record the best three individuals ever found in all generations\n",
    "\n",
    "# start evolution\n",
    "pop, log = gep.gep_simple(pop, toolbox, n_generations=n_gen, n_elites=1,\n",
    "                          stats=stats, hall_of_fame=hof, verbose=True)"
   ]
  },
  {
   "cell_type": "markdown",
   "metadata": {},
   "source": [
    "**Let's check the best individuals ever evolved.**"
   ]
  },
  {
   "cell_type": "code",
   "execution_count": 19,
   "metadata": {
    "collapsed": false
   },
   "outputs": [
    {
     "name": "stdout",
     "output_type": "stream",
     "text": [
      "add(\n",
      "\tmul(-2.6461569577734076, 2.4958210728408394),\n",
      "\tmul(x, x)\n",
      ")\n"
     ]
    }
   ],
   "source": [
    "print(hof[0])"
   ]
  },
  {
   "cell_type": "markdown",
   "metadata": {},
   "source": [
    "# *[optional]* Post-processing: simplification and visualization\n",
    "## Symbolic simplification of the final solution\n",
    "The original solution seems a little complicated, which may contain many redundancies, for example, `protected_div(x, x)` is just 1. We can perform symbolic simplification of the final result by `geppy.simplify` which depends on `sympy` package."
   ]
  },
  {
   "cell_type": "code",
   "execution_count": 20,
   "metadata": {
    "collapsed": false
   },
   "outputs": [
    {
     "name": "stdout",
     "output_type": "stream",
     "text": [
      "Symplified best individual 0: \n",
      "3.1415926535898*x**2 - 7.105427357601e-15\n"
     ]
    }
   ],
   "source": [
    "for i in range(1):\n",
    "    ind = hof[i]\n",
    "    symplified_model = gep.simplify(ind)\n",
    "    raw_non_sym_model = gep.simplify(ind)\n",
    "    if LINEAR_SCALING:\n",
    "        symplified_model = ind.a * symplified_model + ind.b\n",
    "    print('Symplified best individual {}: '.format(i))\n",
    "    print(symplified_model)\n",
    "    # real value of pi is 3.14159265358979323846264338327950288419716939937510\n",
    "    # our GEP estimate is:3.141592653589 8\n",
    "    # our GEP estimate is:"
   ]
  },
  {
   "cell_type": "code",
   "execution_count": 21,
   "metadata": {
    "collapsed": false
   },
   "outputs": [],
   "source": [
    "# print(raw_non_sym_model)  # this is the raw model without linear scaling:\n"
   ]
  },
  {
   "cell_type": "markdown",
   "metadata": {},
   "source": [
    "As we can see from the above simplified expression, the *truth model* has been successfully found. Due to the existence of Gaussian noise, the minimum mean absolute error （MAE) is still not zero even the best individual represents the true model."
   ]
  },
  {
   "cell_type": "markdown",
   "metadata": {},
   "source": [
    "## Visualization\n",
    "If you are interested in the expression tree corresponding to the individual, i.e., the genotype/phenotype system, *geppy* supports tree visualization by the `graph` and the `export_expression_tree` functions:\n",
    "\n",
    "- `graph` only outputs the nodes and links information to describe the tree topology, with which you can render the tree with tools you like;\n",
    "- `export_expression_tree` implements tree visualization with data generated by `graph` internally using the `graphviz` package. "
   ]
  },
  {
   "cell_type": "code",
   "execution_count": 22,
   "metadata": {
    "collapsed": true
   },
   "outputs": [],
   "source": [
    " # we want use symbol labels instead of words in the tree graph\n",
    "rename_labels = {'add': '+', 'sub': '-', 'mul': '*', 'protected_div': '/'}  \n",
    "best_ind = hof[0]\n",
    "gep.export_expression_tree(best_ind, rename_labels, 'data/numerical_expression_tree.png')"
   ]
  },
  {
   "cell_type": "code",
   "execution_count": 23,
   "metadata": {
    "collapsed": false
   },
   "outputs": [
    {
     "data": {
      "image/png": "[encoded data removed]",
      "text/plain": [
       "<IPython.core.display.Image object>"
      ]
     },
     "execution_count": 23,
     "metadata": {},
     "output_type": "execute_result"
    }
   ],
   "source": [
    "# show the above image here for convenience\n",
    "from IPython.display import Image\n",
    "Image(filename='data/numerical_expression_tree.png') "
   ]
  },
  {
   "cell_type": "markdown",
   "metadata": {},
   "source": [
    "# Discussion\n",
    "**With the given no-noise data, a normal GEP can only find a model with $MSE=52.0646$, though the model structure is right. By contrast, linear scaling-enabled GEP obtains a solution with $MSE=2.03544e^{-5}$, which is qualified to be considered as the true model.**\n",
    "\n",
    "If only integer constants are involved, then the GEP-RNC algorithm and the ENC-based algorithm can both be adopted. However, generally the GEP-RNC algorithm is more effective.\n",
    "\n",
    "In other cases where the model is more complicated involving real coefficients and constants, then both of the above two algorithms will have difficulty in optimizing these constants. A better way is to incorporate a local optimizater into GEP dedicated to constant number optimization, or use other techniques like the linear scaling here. "
   ]
  },
  {
   "cell_type": "code",
   "execution_count": null,
   "metadata": {
    "collapsed": true
   },
   "outputs": [],
   "source": []
  },
  {
   "cell_type": "code",
   "execution_count": null,
   "metadata": {
    "collapsed": true
   },
   "outputs": [],
   "source": []
  },
  {
   "cell_type": "code",
   "execution_count": null,
   "metadata": {
    "collapsed": true
   },
   "outputs": [],
   "source": []
  },
  {
   "cell_type": "code",
   "execution_count": null,
   "metadata": {
    "collapsed": true
   },
   "outputs": [],
   "source": []
  },
  {
   "cell_type": "code",
   "execution_count": null,
   "metadata": {
    "collapsed": true
   },
   "outputs": [],
   "source": []
  }
 ],
 "metadata": {
  "kernelspec": {
   "display_name": "Python 3",
   "language": "python",
   "name": "python3"
  },
  "language_info": {
   "codemirror_mode": {
    "name": "ipython",
    "version": 3
   },
   "file_extension": ".py",
   "mimetype": "text/x-python",
   "name": "python",
   "nbconvert_exporter": "python",
   "pygments_lexer": "ipython3",
   "version": "3.6.7"
  }
 },
 "nbformat": 4,
 "nbformat_minor": 2
}
